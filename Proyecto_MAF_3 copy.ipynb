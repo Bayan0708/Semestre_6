{
 "cells": [
  {
   "cell_type": "markdown",
   "metadata": {},
   "source": [
    "Importación de Bibliotecas:"
   ]
  },
  {
   "cell_type": "code",
   "execution_count": 391,
   "metadata": {},
   "outputs": [],
   "source": [
    "import numpy as np\n",
    "import matplotlib.pyplot as plt"
   ]
  },
  {
   "cell_type": "markdown",
   "metadata": {},
   "source": [
    "Funciones de Runge-Kutta de Cuarto Orden:\n",
    "\n",
    "rk4_step: Realiza un solo paso del método RK4.\n",
    "\n",
    "rk4: Ejecuta múltiples pasos del método RK4 para integrar la EDO en el tiempo."
   ]
  },
  {
   "cell_type": "code",
   "execution_count": 392,
   "metadata": {},
   "outputs": [],
   "source": [
    "def rk4_step(y0, x0, f, h):\n",
    "    ''' Realiza un paso del método de Runge-Kutta de cuarto orden.\n",
    "        Inputs:\n",
    "            y0 - Array numpy con las variables del sistema en el paso actual\n",
    "            x0 - Paso de tiempo actual\n",
    "            f  - Función que calcula las derivadas del sistema\n",
    "            h  - Tamaño del paso de tiempo\n",
    "        Output:\n",
    "            yp1 - Array numpy con las variables del sistema en el siguiente paso\n",
    "            xp1 - Paso de tiempo siguiente\n",
    "    '''\n",
    "    k1 = h * f(y0)\n",
    "    k2 = h * f(y0 + k1/2)\n",
    "    k3 = h * f(y0 + k2/2)\n",
    "    k4 = h * f(y0 + k3)\n",
    "    \n",
    "    xp1 = x0 + h\n",
    "    yp1 = y0 + (1/6) * (k1 + 2*k2 + 2*k3 + k4)\n",
    "    \n",
    "    return yp1, xp1\n",
    "\n",
    "def rk4(y0, x0, f, h, n):\n",
    "    ''' Implementación del método RK4 para varios pasos.\n",
    "        Inputs:\n",
    "            y0 - Array numpy con las variables del sistema en el paso inicial\n",
    "            x0 - Paso de tiempo inicial\n",
    "            f  - Función que calcula las derivadas del sistema\n",
    "            h  - Tamaño del paso de tiempo\n",
    "            n  - Número de pasos\n",
    "        Output:\n",
    "            yn - Array numpy con los resultados de la integración para cada paso de tiempo\n",
    "            xn - Array numpy con los valores de los pasos de tiempo\n",
    "    '''\n",
    "    yn = np.zeros((n+1, y0.shape[0]))\n",
    "    xn = np.zeros(n+1)\n",
    "    yn[0,:] = y0\n",
    "    xn[0] = x0\n",
    "    \n",
    "    for i in range(1, n+1):\n",
    "        yn[i,:], xn[i] = rk4_step(y0 = yn[i-1,:], x0 = xn[i-1], f = f, h = h)\n",
    "        \n",
    "    return yn, xn"
   ]
  },
  {
   "cell_type": "markdown",
   "metadata": {},
   "source": [
    "Constantes del Problema:"
   ]
  },
  {
   "cell_type": "code",
   "execution_count": 393,
   "metadata": {},
   "outputs": [],
   "source": [
    "G = 1\n",
    "m1 = 3\n",
    "m2 = 4\n",
    "m3 = 5"
   ]
  },
  {
   "cell_type": "markdown",
   "metadata": {},
   "source": [
    "Condiciones Iniciales:"
   ]
  },
  {
   "cell_type": "code",
   "execution_count": 394,
   "metadata": {},
   "outputs": [],
   "source": [
    "y1 = [0, 1]\n",
    "v1 = [-0.46620368, -0.43236573]\n",
    "y2 = [0.97000436, -0.24308753]\n",
    "v2 = [-0.46620368, -0.43236573]\n",
    "y3 = [0.0, 0.0]\n",
    "v3 = [0.93240737, 0.86473146]\n",
    "\n",
    "y0 = np.array(y1 + v1 + y2 + v2 + y3 + v3)"
   ]
  },
  {
   "cell_type": "markdown",
   "metadata": {},
   "source": [
    "Definición de la Norma del Vector:"
   ]
  },
  {
   "cell_type": "code",
   "execution_count": 395,
   "metadata": {},
   "outputs": [],
   "source": [
    "def norm_of_vector(x):\n",
    "    return np.sqrt(x[0]**2 + x[1]**2)"
   ]
  },
  {
   "cell_type": "markdown",
   "metadata": {},
   "source": [
    "Funciones Derivadas:\n",
    "Estas funciones calculan las derivadas de las posiciones y velocidades de los cuerpos según las leyes gravitacionales."
   ]
  },
  {
   "cell_type": "code",
   "execution_count": 396,
   "metadata": {},
   "outputs": [],
   "source": [
    "# Derivadas de las posiciones y velocidades\n",
    "def derivative_of_y1(y):\n",
    "    v1 = y[2:4]\n",
    "    return list(v1)\n",
    "\n",
    "def derivative_of_v1(y):\n",
    "    y1 = y[0:2]\n",
    "    y2 = y[4:6]\n",
    "    y3 = y[8:10]\n",
    "    return list(-G*m2*(y1 - y2)/norm_of_vector(y1-y2)**3 - G*m3*(y1 - y3)/norm_of_vector(y1-y3)**3)\n",
    "\n",
    "def derivative_of_y2(y):\n",
    "    v2 = y[6:8]\n",
    "    return list(v2)\n",
    "\n",
    "def derivative_of_v2(y):\n",
    "    y1 = y[0:2]\n",
    "    y2 = y[4:6]\n",
    "    y3 = y[8:10]\n",
    "    return list(-G*m3*(y2 - y3)/norm_of_vector(y2-y3)**3 - G*m1*(y2 - y1)/norm_of_vector(y2-y1)**3)\n",
    "\n",
    "def derivative_of_y3(y):\n",
    "    v3 = y[10:12]\n",
    "    return list(v3)\n",
    "\n",
    "def derivative_of_v3(y):\n",
    "    y1 = y[0:2]\n",
    "    y2 = y[4:6]\n",
    "    y3 = y[8:10]\n",
    "    return list(-G*m1*(y3 - y1)/norm_of_vector(y3-y1)**3 - G*m2*(y3 - y2)/norm_of_vector(y3-y2)**3)\n"
   ]
  },
  {
   "cell_type": "markdown",
   "metadata": {},
   "source": [
    "Función de Derivadas del Sistema Completo:"
   ]
  },
  {
   "cell_type": "code",
   "execution_count": 397,
   "metadata": {},
   "outputs": [],
   "source": [
    "def f(y):\n",
    "    return np.array(derivative_of_y1(y) + derivative_of_v1(y) + derivative_of_y2(y) + derivative_of_v2(y) + derivative_of_y3(y) + derivative_of_v3(y))"
   ]
  },
  {
   "cell_type": "markdown",
   "metadata": {},
   "source": [
    "Tamaño del Paso de Tiempo:"
   ]
  },
  {
   "cell_type": "code",
   "execution_count": 398,
   "metadata": {},
   "outputs": [],
   "source": [
    "h = 0.0001"
   ]
  },
  {
   "cell_type": "markdown",
   "metadata": {},
   "source": [
    "Integración del Sistema:"
   ]
  },
  {
   "cell_type": "code",
   "execution_count": 399,
   "metadata": {},
   "outputs": [],
   "source": [
    "y, x = rk4(y0, 0, f, h, 4000)"
   ]
  },
  {
   "cell_type": "markdown",
   "metadata": {},
   "source": [
    "Extracción de las Posiciones para la Gráfica:"
   ]
  },
  {
   "cell_type": "code",
   "execution_count": 400,
   "metadata": {},
   "outputs": [],
   "source": [
    "pos1_x = []\n",
    "pos1_y = []\n",
    "pos2_x = []\n",
    "pos2_y = []\n",
    "pos3_x = []\n",
    "pos3_y = []\n",
    "\n",
    "for i in range(len(y)):\n",
    "    pos1_x.append(y[i][0])\n",
    "    pos1_y.append(y[i][1])\n",
    "    pos2_x.append(y[i][4])\n",
    "    pos2_y.append(y[i][5])\n",
    "    pos3_x.append(y[i][8])\n",
    "    pos3_y.append(y[i][9])\n"
   ]
  },
  {
   "cell_type": "markdown",
   "metadata": {},
   "source": [
    "Gráfica de las Trayectorias:"
   ]
  },
  {
   "cell_type": "code",
   "execution_count": 401,
   "metadata": {},
   "outputs": [
    {
     "data": {
      "image/png": "[encoded data removed]",
      "text/plain": [
       "<Figure size 432x288 with 1 Axes>"
      ]
     },
     "metadata": {
      "needs_background": "light"
     },
     "output_type": "display_data"
    }
   ],
   "source": [
    "plt.title('Solución del Problema de los Tres Cuerpos con $h =$ ' + str(h))\n",
    "plt.xlabel('x')\n",
    "plt.ylabel('y')\n",
    "plt.plot(pos1_x, pos1_y, linewidth=1.0, linestyle=\"-\", label='m1 = 1')\n",
    "plt.plot(pos2_x, pos2_y, linewidth=1.0, linestyle=\"-\", label='m2 = 1')\n",
    "plt.plot(pos3_x, pos3_y, linewidth=1.0, linestyle=\"-\", label='m3 = 1')\n",
    "plt.legend()\n",
    "plt.show()\n"
   ]
  }
 ],
 "metadata": {
  "kernelspec": {
   "display_name": "Python 3",
   "language": "python",
   "name": "python3"
  },
  "language_info": {
   "codemirror_mode": {
    "name": "ipython",
    "version": 3
   },
   "file_extension": ".py",
   "mimetype": "text/x-python",
   "name": "python",
   "nbconvert_exporter": "python",
   "pygments_lexer": "ipython3",
   "version": "3.9.7"
  }
 },
 "nbformat": 4,
 "nbformat_minor": 2
}
