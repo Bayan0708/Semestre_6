{
 "cells": [
  {
   "cell_type": "code",
   "execution_count": 3,
   "metadata": {},
   "outputs": [],
   "source": [
    "import numpy as np"
   ]
  },
  {
   "cell_type": "code",
   "execution_count": 4,
   "metadata": {},
   "outputs": [
    {
     "name": "stdout",
     "output_type": "stream",
     "text": [
      "El cuadrado del desplazamiento es: 2\n"
     ]
    }
   ],
   "source": [
    "#a)\n",
    "    # Definir las matrices\n",
    "S = np.array([1, 0, 1])\n",
    "    # Calcular la norma al cuadrado de la matriz\n",
    "SS = np.dot(S.T, S)\n",
    "SS = np.squeeze(SS)\n",
    "SS = np.round(SS, 4)\n",
    "\n",
    "print(\"El cuadrado del desplazamiento es:\", SS)\n"
   ]
  },
  {
   "cell_type": "code",
   "execution_count": 8,
   "metadata": {},
   "outputs": [
    {
     "name": "stdout",
     "output_type": "stream",
     "text": [
      "[[1.41421356]\n",
      " [0.        ]\n",
      " [0.        ]]\n",
      "El cuadrado del desplazamiento es: 2.0\n"
     ]
    }
   ],
   "source": [
    "#b)\n",
    "    # Definir las matrices\n",
    "A = np.array([[1/np.sqrt(2), 0, 1/np.sqrt(2)],\n",
    "              [0, 1, 0],\n",
    "              [-1/np.sqrt(2), 0, 1/np.sqrt(2)]])\n",
    "\n",
    "B = np.array([[1],\n",
    "              [0],\n",
    "              [1]])\n",
    "\n",
    "    # Realizar la multiplicación de matrices\n",
    "AB = np.dot(A, B)\n",
    "\n",
    "print(AB)\n",
    "\n",
    "    # Calcular la norma al cuadrado de la matriz\n",
    "ABAB = np.dot(AB.T, AB)\n",
    "ABAB = np.squeeze(ABAB)\n",
    "ABAB = np.round(ABAB, 4)\n",
    "\n",
    "print(\"El cuadrado del desplazamiento es:\", ABAB)"
   ]
  },
  {
   "cell_type": "code",
   "execution_count": 6,
   "metadata": {},
   "outputs": [
    {
     "name": "stdout",
     "output_type": "stream",
     "text": [
      "[[ 1.  0. -0.]\n",
      " [ 0.  1.  0.]\n",
      " [-0.  0.  1.]]\n"
     ]
    }
   ],
   "source": [
    "#c)\n",
    "    # Definir las matrices\n",
    "AT = np.array([[1/np.sqrt(2), 0, -1/np.sqrt(2)],\n",
    "              [0, 1, 0],\n",
    "              [1/np.sqrt(2), 0, 1/np.sqrt(2)]])\n",
    "\n",
    "I = np.array([[1,0,0],\n",
    "              [0, 1, 0],\n",
    "              [0,0,1]])\n",
    "\n",
    "    # Realizar la multiplicación de matrices\n",
    "ATI = np.dot(AT, I)\n",
    "ATIA = np.dot(ATI, A)\n",
    "\n",
    "    # Calcular la norma al cuadrado de la matriz y redondeo\n",
    "ATIA = np.squeeze(ATIA)\n",
    "ATIA = np.round(ATIA, 4)\n",
    "\n",
    "print(ATIA)\n"
   ]
  }
 ],
 "metadata": {
  "kernelspec": {
   "display_name": "Python 3",
   "language": "python",
   "name": "python3"
  },
  "language_info": {
   "codemirror_mode": {
    "name": "ipython",
    "version": 3
   },
   "file_extension": ".py",
   "mimetype": "text/x-python",
   "name": "python",
   "nbconvert_exporter": "python",
   "pygments_lexer": "ipython3",
   "version": "3.9.7"
  }
 },
 "nbformat": 4,
 "nbformat_minor": 2
}
